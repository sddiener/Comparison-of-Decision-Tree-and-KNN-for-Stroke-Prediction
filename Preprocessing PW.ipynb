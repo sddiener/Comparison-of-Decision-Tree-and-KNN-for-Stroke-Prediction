{
 "cells": [
  {
   "cell_type": "markdown",
   "metadata": {},
   "source": [
    "# Preprocessing and EDA"
   ]
  },
  {
   "cell_type": "code",
   "execution_count": 42,
   "metadata": {},
   "outputs": [],
   "source": [
    "# Setup\n",
    "import pandas as pd\n",
    "import matplotlib.pyplot as plt\n",
    "import seaborn as sns\n",
    "import numpy as np\n",
    "import regex as re\n",
    "from sklearn.feature_extraction.text import TfidfVectorizer"
   ]
  },
  {
   "cell_type": "markdown",
   "metadata": {},
   "source": [
    "## 1. Creating Features"
   ]
  },
  {
   "cell_type": "code",
   "execution_count": 43,
   "metadata": {},
   "outputs": [
    {
     "name": "stdout",
     "output_type": "stream",
     "text": [
      "nrows: 1339278\n"
     ]
    },
    {
     "data": {
      "text/html": [
       "<div>\n",
       "<style scoped>\n",
       "    .dataframe tbody tr th:only-of-type {\n",
       "        vertical-align: middle;\n",
       "    }\n",
       "\n",
       "    .dataframe tbody tr th {\n",
       "        vertical-align: top;\n",
       "    }\n",
       "\n",
       "    .dataframe thead th {\n",
       "        text-align: right;\n",
       "    }\n",
       "</style>\n",
       "<table border=\"1\" class=\"dataframe\">\n",
       "  <thead>\n",
       "    <tr style=\"text-align: right;\">\n",
       "      <th></th>\n",
       "      <th>password</th>\n",
       "      <th>strength</th>\n",
       "    </tr>\n",
       "  </thead>\n",
       "  <tbody>\n",
       "    <tr>\n",
       "      <th>0</th>\n",
       "      <td>kzde5577</td>\n",
       "      <td>1</td>\n",
       "    </tr>\n",
       "    <tr>\n",
       "      <th>1</th>\n",
       "      <td>kino3434</td>\n",
       "      <td>1</td>\n",
       "    </tr>\n",
       "    <tr>\n",
       "      <th>2</th>\n",
       "      <td>visi7k1yr</td>\n",
       "      <td>1</td>\n",
       "    </tr>\n",
       "    <tr>\n",
       "      <th>3</th>\n",
       "      <td>megzy123</td>\n",
       "      <td>1</td>\n",
       "    </tr>\n",
       "  </tbody>\n",
       "</table>\n",
       "</div>"
      ],
      "text/plain": [
       "    password  strength\n",
       "0   kzde5577         1\n",
       "1   kino3434         1\n",
       "2  visi7k1yr         1\n",
       "3   megzy123         1"
      ]
     },
     "execution_count": 43,
     "metadata": {},
     "output_type": "execute_result"
    }
   ],
   "source": [
    "data = pd.read_csv('PWdata.csv', on_bad_lines='skip')\n",
    "\n",
    "# Inital cleaning\n",
    "data = data.dropna().reset_index(drop=True)  # removed 1 row\n",
    "data.password = data.password.astype(str)\n",
    "\n",
    "print('nrows: {}'.format(data.size))\n",
    "data.head(4)"
   ]
  },
  {
   "cell_type": "code",
   "execution_count": 44,
   "metadata": {},
   "outputs": [
    {
     "data": {
      "text/html": [
       "<div>\n",
       "<style scoped>\n",
       "    .dataframe tbody tr th:only-of-type {\n",
       "        vertical-align: middle;\n",
       "    }\n",
       "\n",
       "    .dataframe tbody tr th {\n",
       "        vertical-align: top;\n",
       "    }\n",
       "\n",
       "    .dataframe thead th {\n",
       "        text-align: right;\n",
       "    }\n",
       "</style>\n",
       "<table border=\"1\" class=\"dataframe\">\n",
       "  <thead>\n",
       "    <tr style=\"text-align: right;\">\n",
       "      <th></th>\n",
       "      <th>password</th>\n",
       "      <th>strength</th>\n",
       "      <th>length</th>\n",
       "      <th>ratio_lower</th>\n",
       "      <th>ratio_upper</th>\n",
       "      <th>ratio_numbers</th>\n",
       "      <th>ratio_special</th>\n",
       "      <th>ratio_unique</th>\n",
       "      <th>nr_types</th>\n",
       "    </tr>\n",
       "  </thead>\n",
       "  <tbody>\n",
       "    <tr>\n",
       "      <th>0</th>\n",
       "      <td>kzde5577</td>\n",
       "      <td>1</td>\n",
       "      <td>8</td>\n",
       "      <td>0.500000</td>\n",
       "      <td>0.0</td>\n",
       "      <td>0.500000</td>\n",
       "      <td>0.0</td>\n",
       "      <td>0.750000</td>\n",
       "      <td>2</td>\n",
       "    </tr>\n",
       "    <tr>\n",
       "      <th>1</th>\n",
       "      <td>kino3434</td>\n",
       "      <td>1</td>\n",
       "      <td>8</td>\n",
       "      <td>0.500000</td>\n",
       "      <td>0.0</td>\n",
       "      <td>0.500000</td>\n",
       "      <td>0.0</td>\n",
       "      <td>0.750000</td>\n",
       "      <td>2</td>\n",
       "    </tr>\n",
       "    <tr>\n",
       "      <th>2</th>\n",
       "      <td>visi7k1yr</td>\n",
       "      <td>1</td>\n",
       "      <td>9</td>\n",
       "      <td>0.777778</td>\n",
       "      <td>0.0</td>\n",
       "      <td>0.222222</td>\n",
       "      <td>0.0</td>\n",
       "      <td>0.888889</td>\n",
       "      <td>2</td>\n",
       "    </tr>\n",
       "    <tr>\n",
       "      <th>3</th>\n",
       "      <td>megzy123</td>\n",
       "      <td>1</td>\n",
       "      <td>8</td>\n",
       "      <td>0.625000</td>\n",
       "      <td>0.0</td>\n",
       "      <td>0.375000</td>\n",
       "      <td>0.0</td>\n",
       "      <td>1.000000</td>\n",
       "      <td>2</td>\n",
       "    </tr>\n",
       "    <tr>\n",
       "      <th>4</th>\n",
       "      <td>lamborghin1</td>\n",
       "      <td>1</td>\n",
       "      <td>11</td>\n",
       "      <td>0.909091</td>\n",
       "      <td>0.0</td>\n",
       "      <td>0.090909</td>\n",
       "      <td>0.0</td>\n",
       "      <td>1.000000</td>\n",
       "      <td>2</td>\n",
       "    </tr>\n",
       "    <tr>\n",
       "      <th>...</th>\n",
       "      <td>...</td>\n",
       "      <td>...</td>\n",
       "      <td>...</td>\n",
       "      <td>...</td>\n",
       "      <td>...</td>\n",
       "      <td>...</td>\n",
       "      <td>...</td>\n",
       "      <td>...</td>\n",
       "      <td>...</td>\n",
       "    </tr>\n",
       "    <tr>\n",
       "      <th>669634</th>\n",
       "      <td>10redtux10</td>\n",
       "      <td>1</td>\n",
       "      <td>10</td>\n",
       "      <td>0.600000</td>\n",
       "      <td>0.0</td>\n",
       "      <td>0.400000</td>\n",
       "      <td>0.0</td>\n",
       "      <td>0.800000</td>\n",
       "      <td>2</td>\n",
       "    </tr>\n",
       "    <tr>\n",
       "      <th>669635</th>\n",
       "      <td>infrared1</td>\n",
       "      <td>1</td>\n",
       "      <td>9</td>\n",
       "      <td>0.888889</td>\n",
       "      <td>0.0</td>\n",
       "      <td>0.111111</td>\n",
       "      <td>0.0</td>\n",
       "      <td>0.888889</td>\n",
       "      <td>2</td>\n",
       "    </tr>\n",
       "    <tr>\n",
       "      <th>669636</th>\n",
       "      <td>184520socram</td>\n",
       "      <td>1</td>\n",
       "      <td>12</td>\n",
       "      <td>0.500000</td>\n",
       "      <td>0.0</td>\n",
       "      <td>0.500000</td>\n",
       "      <td>0.0</td>\n",
       "      <td>1.000000</td>\n",
       "      <td>2</td>\n",
       "    </tr>\n",
       "    <tr>\n",
       "      <th>669637</th>\n",
       "      <td>marken22a</td>\n",
       "      <td>1</td>\n",
       "      <td>9</td>\n",
       "      <td>0.777778</td>\n",
       "      <td>0.0</td>\n",
       "      <td>0.222222</td>\n",
       "      <td>0.0</td>\n",
       "      <td>0.777778</td>\n",
       "      <td>2</td>\n",
       "    </tr>\n",
       "    <tr>\n",
       "      <th>669638</th>\n",
       "      <td>fxx4pw4g</td>\n",
       "      <td>1</td>\n",
       "      <td>8</td>\n",
       "      <td>0.750000</td>\n",
       "      <td>0.0</td>\n",
       "      <td>0.250000</td>\n",
       "      <td>0.0</td>\n",
       "      <td>0.750000</td>\n",
       "      <td>2</td>\n",
       "    </tr>\n",
       "  </tbody>\n",
       "</table>\n",
       "<p>669639 rows × 9 columns</p>\n",
       "</div>"
      ],
      "text/plain": [
       "            password  strength  length  ratio_lower  ratio_upper  \\\n",
       "0           kzde5577         1       8     0.500000          0.0   \n",
       "1           kino3434         1       8     0.500000          0.0   \n",
       "2          visi7k1yr         1       9     0.777778          0.0   \n",
       "3           megzy123         1       8     0.625000          0.0   \n",
       "4        lamborghin1         1      11     0.909091          0.0   \n",
       "...              ...       ...     ...          ...          ...   \n",
       "669634    10redtux10         1      10     0.600000          0.0   \n",
       "669635     infrared1         1       9     0.888889          0.0   \n",
       "669636  184520socram         1      12     0.500000          0.0   \n",
       "669637     marken22a         1       9     0.777778          0.0   \n",
       "669638      fxx4pw4g         1       8     0.750000          0.0   \n",
       "\n",
       "        ratio_numbers  ratio_special  ratio_unique  nr_types  \n",
       "0            0.500000            0.0      0.750000         2  \n",
       "1            0.500000            0.0      0.750000         2  \n",
       "2            0.222222            0.0      0.888889         2  \n",
       "3            0.375000            0.0      1.000000         2  \n",
       "4            0.090909            0.0      1.000000         2  \n",
       "...               ...            ...           ...       ...  \n",
       "669634       0.400000            0.0      0.800000         2  \n",
       "669635       0.111111            0.0      0.888889         2  \n",
       "669636       0.500000            0.0      1.000000         2  \n",
       "669637       0.222222            0.0      0.777778         2  \n",
       "669638       0.250000            0.0      0.750000         2  \n",
       "\n",
       "[669639 rows x 9 columns]"
      ]
     },
     "execution_count": 44,
     "metadata": {},
     "output_type": "execute_result"
    }
   ],
   "source": [
    "# Create basic features from password string\n",
    "data['length'] = data.password.str.len()  # length of password\n",
    "data['ratio_lower'] = data.password.apply(lambda pw: len(re.findall(r'[a-z]', pw))) / data.length  # ratio of lowercase letters\n",
    "data['ratio_upper'] = data.password.apply(lambda pw: len(re.findall(r'[A-Z]', pw))) / data.length  # ratio of uppercase letters\n",
    "data['ratio_numbers'] = data.password.apply(lambda pw: len(re.findall(r'[0-9]', pw)))  / data.length  # ratio of numeric characters\n",
    "data['ratio_special'] = data.password.apply(lambda pw: len(re.findall(r'[!@#$%^&*()_+{}\\[\\]:\"\\\\<>?|;,.\\'´`/]', pw))) / data.length  # ratio of special characters\n",
    "data['ratio_unique'] = data.password.apply(lambda pw: len(set(pw))) / data.length  # ratio of unique characters\n",
    "data['nr_types'] = data[['ratio_lower', 'ratio_upper', 'ratio_numbers', 'ratio_special']].apply(lambda row: sum(row > 0), axis=1)  # number of different types of characters\n",
    "\n",
    "# save data as csv\n",
    "data.to_csv('PWdata_cleaned.csv', index=False)\n",
    "data"
   ]
  },
  {
   "cell_type": "code",
   "execution_count": 45,
   "metadata": {},
   "outputs": [],
   "source": [
    "# # Calculate tfidf score of letters\n",
    "# vectorizer = TfidfVectorizer(analyzer='char', ngram_range=(1, 1), lowercase=False) \n",
    "# vectorizer.fit(data.password)\n",
    "# tfidf_matrix = vectorizer.transform(data.password).toarray()\n",
    "\n",
    "# tfidf_df = pd.DataFrame(data=tfidf_matrix, columns=vectorizer.get_feature_names_out())\n",
    "# data_tfidf = pd.concat([data, tfidf_df], axis=1)\n",
    "\n",
    "# # Check sizes \n",
    "# print('tfidf_matrix.shape: {}'.format(tfidf_matrix.shape))\n",
    "# print('data.shape: {}'.format(data.shape))\n",
    "# print('tfidf_df.shape: {}'.format(tfidf_df.shape))\n",
    "# print('data_tfidf.shape: {}'.format(data_tfidf.shape))\n",
    "\n",
    "# # Print tfidf features\n",
    "# print('{} features:\\n{}'.format(len(vectorizer.get_feature_names_out()), vectorizer.get_feature_names_out()))\n",
    "# data_tfidf.head()"
   ]
  },
  {
   "cell_type": "markdown",
   "metadata": {},
   "source": [
    "## Summary statistics and plots"
   ]
  },
  {
   "cell_type": "code",
   "execution_count": 46,
   "metadata": {},
   "outputs": [
    {
     "data": {
      "image/png": "[encoded data removed]",
      "text/plain": [
       "<Figure size 360x288 with 1 Axes>"
      ]
     },
     "metadata": {},
     "output_type": "display_data"
    }
   ],
   "source": [
    "# plot piechart of strength of password\n",
    "pie_data = data.strength.map({0:'weak',1:'medium',2:'strong'}).value_counts()\n",
    "colors = sns.color_palette('pastel')[0:5]\n",
    "\n",
    "fig= plt.figure(figsize=(5, 4)).set_facecolor('white')\n",
    "plt.pie(pie_data, labels=pie_data.index, colors=colors, autopct='%1.1f%%')\n",
    "plt.title('Strength of passwords')\n",
    "plt.show() # plt.savefig('piechart.png')"
   ]
  },
  {
   "cell_type": "code",
   "execution_count": 76,
   "metadata": {},
   "outputs": [
    {
     "name": "stdout",
     "output_type": "stream",
     "text": [
      "<class 'pandas.core.frame.DataFrame'>\n",
      "RangeIndex: 669639 entries, 0 to 669638\n",
      "Data columns (total 9 columns):\n",
      " #   Column         Non-Null Count   Dtype  \n",
      "---  ------         --------------   -----  \n",
      " 0   password       669639 non-null  object \n",
      " 1   strength       669639 non-null  int64  \n",
      " 2   length         669639 non-null  int64  \n",
      " 3   ratio_lower    669639 non-null  float64\n",
      " 4   ratio_upper    669639 non-null  float64\n",
      " 5   ratio_numbers  669639 non-null  float64\n",
      " 6   ratio_special  669639 non-null  float64\n",
      " 7   ratio_unique   669639 non-null  float64\n",
      " 8   nr_types       669639 non-null  int64  \n",
      "dtypes: float64(5), int64(3), object(1)\n",
      "memory usage: 46.0+ MB\n"
     ]
    }
   ],
   "source": [
    "data.info()"
   ]
  },
  {
   "cell_type": "code",
   "execution_count": 64,
   "metadata": {},
   "outputs": [
    {
     "data": {
      "text/html": [
       "<div>\n",
       "<style scoped>\n",
       "    .dataframe tbody tr th:only-of-type {\n",
       "        vertical-align: middle;\n",
       "    }\n",
       "\n",
       "    .dataframe tbody tr th {\n",
       "        vertical-align: top;\n",
       "    }\n",
       "\n",
       "    .dataframe thead th {\n",
       "        text-align: right;\n",
       "    }\n",
       "</style>\n",
       "<table border=\"1\" class=\"dataframe\">\n",
       "  <thead>\n",
       "    <tr style=\"text-align: right;\">\n",
       "      <th></th>\n",
       "      <th>password</th>\n",
       "      <th>strength</th>\n",
       "      <th>length</th>\n",
       "      <th>ratio_lower</th>\n",
       "      <th>ratio_upper</th>\n",
       "      <th>ratio_numbers</th>\n",
       "      <th>ratio_special</th>\n",
       "      <th>ratio_unique</th>\n",
       "      <th>nr_types</th>\n",
       "    </tr>\n",
       "  </thead>\n",
       "  <tbody>\n",
       "    <tr>\n",
       "      <th>0</th>\n",
       "      <td>kzde5577</td>\n",
       "      <td>1</td>\n",
       "      <td>8</td>\n",
       "      <td>0.500000</td>\n",
       "      <td>0.0</td>\n",
       "      <td>0.500000</td>\n",
       "      <td>0.0</td>\n",
       "      <td>0.750000</td>\n",
       "      <td>2</td>\n",
       "    </tr>\n",
       "    <tr>\n",
       "      <th>1</th>\n",
       "      <td>kino3434</td>\n",
       "      <td>1</td>\n",
       "      <td>8</td>\n",
       "      <td>0.500000</td>\n",
       "      <td>0.0</td>\n",
       "      <td>0.500000</td>\n",
       "      <td>0.0</td>\n",
       "      <td>0.750000</td>\n",
       "      <td>2</td>\n",
       "    </tr>\n",
       "    <tr>\n",
       "      <th>2</th>\n",
       "      <td>visi7k1yr</td>\n",
       "      <td>1</td>\n",
       "      <td>9</td>\n",
       "      <td>0.777778</td>\n",
       "      <td>0.0</td>\n",
       "      <td>0.222222</td>\n",
       "      <td>0.0</td>\n",
       "      <td>0.888889</td>\n",
       "      <td>2</td>\n",
       "    </tr>\n",
       "    <tr>\n",
       "      <th>3</th>\n",
       "      <td>megzy123</td>\n",
       "      <td>1</td>\n",
       "      <td>8</td>\n",
       "      <td>0.625000</td>\n",
       "      <td>0.0</td>\n",
       "      <td>0.375000</td>\n",
       "      <td>0.0</td>\n",
       "      <td>1.000000</td>\n",
       "      <td>2</td>\n",
       "    </tr>\n",
       "    <tr>\n",
       "      <th>4</th>\n",
       "      <td>lamborghin1</td>\n",
       "      <td>1</td>\n",
       "      <td>11</td>\n",
       "      <td>0.909091</td>\n",
       "      <td>0.0</td>\n",
       "      <td>0.090909</td>\n",
       "      <td>0.0</td>\n",
       "      <td>1.000000</td>\n",
       "      <td>2</td>\n",
       "    </tr>\n",
       "  </tbody>\n",
       "</table>\n",
       "</div>"
      ],
      "text/plain": [
       "      password  strength  length  ratio_lower  ratio_upper  ratio_numbers  \\\n",
       "0     kzde5577         1       8     0.500000          0.0       0.500000   \n",
       "1     kino3434         1       8     0.500000          0.0       0.500000   \n",
       "2    visi7k1yr         1       9     0.777778          0.0       0.222222   \n",
       "3     megzy123         1       8     0.625000          0.0       0.375000   \n",
       "4  lamborghin1         1      11     0.909091          0.0       0.090909   \n",
       "\n",
       "   ratio_special  ratio_unique  nr_types  \n",
       "0            0.0      0.750000         2  \n",
       "1            0.0      0.750000         2  \n",
       "2            0.0      0.888889         2  \n",
       "3            0.0      1.000000         2  \n",
       "4            0.0      1.000000         2  "
      ]
     },
     "execution_count": 64,
     "metadata": {},
     "output_type": "execute_result"
    }
   ],
   "source": [
    "data.head()"
   ]
  },
  {
   "cell_type": "code",
   "execution_count": 79,
   "metadata": {},
   "outputs": [
    {
     "data": {
      "image/png": "[encoded data removed]",
      "text/plain": [
       "<Figure size 432x288 with 1 Axes>"
      ]
     },
     "metadata": {
      "needs_background": "light"
     },
     "output_type": "display_data"
    }
   ],
   "source": [
    "# data_box = pd.melt(data, id_vars='strength', value_vars=['length', 'ratio_lower', 'ratio_upper', 'ratio_numbers', 'ratio_special', 'ratio_unique', 'nr_types'])\n",
    "box_data = data.iloc[:, 1:]\n",
    "box_data.strength = box_data.strength.map({0:'weak',1:'medium',2:'strong'})\n",
    "box_data\n",
    "\n",
    "sns.boxplot(y='ratio_lower', hue='strength', data=box_data)\n",
    "plt.show()"
   ]
  },
  {
   "cell_type": "code",
   "execution_count": 52,
   "metadata": {},
   "outputs": [
    {
     "data": {
      "image/png": "[encoded data removed]",
      "text/plain": [
       "<Figure size 432x288 with 1 Axes>"
      ]
     },
     "metadata": {
      "needs_background": "light"
     },
     "output_type": "display_data"
    },
    {
     "data": {
      "image/png": "[encoded data removed]",
      "text/plain": [
       "<Figure size 432x288 with 1 Axes>"
      ]
     },
     "metadata": {
      "needs_background": "light"
     },
     "output_type": "display_data"
    },
    {
     "data": {
      "image/png": "[encoded data removed]",
      "text/plain": [
       "<Figure size 432x288 with 1 Axes>"
      ]
     },
     "metadata": {
      "needs_background": "light"
     },
     "output_type": "display_data"
    },
    {
     "data": {
      "image/png": "[encoded data removed]",
      "text/plain": [
       "<Figure size 432x288 with 1 Axes>"
      ]
     },
     "metadata": {
      "needs_background": "light"
     },
     "output_type": "display_data"
    },
    {
     "data": {
      "image/png": "[encoded data removed]",
      "text/plain": [
       "<Figure size 432x288 with 1 Axes>"
      ]
     },
     "metadata": {
      "needs_background": "light"
     },
     "output_type": "display_data"
    },
    {
     "data": {
      "image/png": "[encoded data removed]",
      "text/plain": [
       "<Figure size 432x288 with 1 Axes>"
      ]
     },
     "metadata": {
      "needs_background": "light"
     },
     "output_type": "display_data"
    },
    {
     "data": {
      "image/png": "[encoded data removed]",
      "text/plain": [
       "<Figure size 432x288 with 1 Axes>"
      ]
     },
     "metadata": {
      "needs_background": "light"
     },
     "output_type": "display_data"
    },
    {
     "data": {
      "image/png": "[encoded data removed]",
      "text/plain": [
       "<Figure size 432x288 with 1 Axes>"
      ]
     },
     "metadata": {
      "needs_background": "light"
     },
     "output_type": "display_data"
    }
   ],
   "source": [
    "# plot boxplot for every variable om data\n",
    "for col in data.columns[1:]:\n",
    "    sns.boxplot(data=data, y=col, hue='strength')\n",
    "    plt.show()\n"
   ]
  },
  {
   "cell_type": "code",
   "execution_count": null,
   "metadata": {},
   "outputs": [],
   "source": []
  }
 ],
 "metadata": {
  "interpreter": {
   "hash": "456c5c7a72f7729f68f5815073c7c2403285ae4c62a008d20a6300722bd8cfa9"
  },
  "kernelspec": {
   "display_name": "Python 3.9.7 64-bit ('ML': conda)",
   "language": "python",
   "name": "python3"
  },
  "language_info": {
   "codemirror_mode": {
    "name": "ipython",
    "version": 3
   },
   "file_extension": ".py",
   "mimetype": "text/x-python",
   "name": "python",
   "nbconvert_exporter": "python",
   "pygments_lexer": "ipython3",
   "version": "3.9.7"
  },
  "orig_nbformat": 4
 },
 "nbformat": 4,
 "nbformat_minor": 2
}
